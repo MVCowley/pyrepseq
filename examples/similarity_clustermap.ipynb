{
 "cells": [
  {
   "cell_type": "markdown",
   "id": "b0698495",
   "metadata": {},
   "source": [
    "# Plotting a sequence-similarity clustermap\n",
    "\n",
    "This notebook shows how to display patterns of TCR sequence similarity in a hierarchically clustered heatmap.\n",
    "\n",
    "The example data is from [Dash et al. Nature 2017](https://doi.org/10.1038/nature22383). The plot is performed with default parameters, but the package provides extensive support for customization."
   ]
  },
  {
   "cell_type": "code",
   "execution_count": 1,
   "id": "182b4d7b",
   "metadata": {},
   "outputs": [],
   "source": [
    "import pandas as pd\n",
    "import pyrepseq as rs\n",
    "import pyrepseq.plotting as rsp"
   ]
  },
  {
   "cell_type": "code",
   "execution_count": 2,
   "id": "d5757a9f",
   "metadata": {},
   "outputs": [],
   "source": [
    "!wget https://raw.githubusercontent.com/kmayerb/tcrdist3/master/dash_human.csv -O dash_human.csv > /dev/null 2>&1"
   ]
  },
  {
   "cell_type": "code",
   "execution_count": 3,
   "id": "1eb78676",
   "metadata": {},
   "outputs": [
    {
     "data": {
      "image/png": "[encoded data removed]",
      "text/plain": [
       "<Figure size 302.4x302.4 with 5 Axes>"
      ]
     },
     "metadata": {
      "needs_background": "light"
     },
     "output_type": "display_data"
    }
   ],
   "source": [
    "d = pd.read_csv('dash_human.csv')\n",
    "epitope = 'BMLF'\n",
    "cg, linkage, cluster = rsp.similarity_clustermap(d[d['epitope']==epitope],\n",
    "                                                 alpha_column='cdr3_a_aa',\n",
    "                                                 beta_column='cdr3_b_aa',\n",
    "                                                 meta_columns=['subject'])"
   ]
  },
  {
   "cell_type": "markdown",
   "id": "74448451",
   "metadata": {},
   "source": [
    "Caption: Sequence-similarity clustermap of TCRs binding to an Epstein-Barr Virus epitope as obtained by single cell TCR sequencing following tetramer sorting. Lower/upper triangle shows pairwise distances of CDR3$\\alpha$/CDR3$\\beta$ sequences. Sequences are ordered by average linkage hierarchical clustering based on summed $\\alpha\\beta$ distance. Columns on the left show subject of origin and cluster assignment; sequences not belonging to a cluster based on a cutoff distance of 6 are shown in black."
   ]
  }
 ],
 "metadata": {
  "kernelspec": {
   "display_name": "Python 3 (ipykernel)",
   "language": "python",
   "name": "python3"
  },
  "language_info": {
   "codemirror_mode": {
    "name": "ipython",
    "version": 3
   },
   "file_extension": ".py",
   "mimetype": "text/x-python",
   "name": "python",
   "nbconvert_exporter": "python",
   "pygments_lexer": "ipython3",
   "version": "3.8.13"
  }
 },
 "nbformat": 4,
 "nbformat_minor": 5
}
